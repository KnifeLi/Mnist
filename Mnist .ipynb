{
 "cells": [
  {
   "cell_type": "markdown",
   "metadata": {},
   "source": [
    "# <span style=\"color:green\">Welcome to Tensorflow Tutorial</span>"
   ]
  },
  {
   "cell_type": "code",
   "execution_count": 24,
   "metadata": {},
   "outputs": [
    {
     "name": "stdout",
     "output_type": "stream",
     "text": [
      "Extracting MNIST_data/train-images-idx3-ubyte.gz\n",
      "Extracting MNIST_data/train-labels-idx1-ubyte.gz\n",
      "Extracting MNIST_data/t10k-images-idx3-ubyte.gz\n",
      "Extracting MNIST_data/t10k-labels-idx1-ubyte.gz\n"
     ]
    }
   ],
   "source": [
    "from __future__ import print_function\n",
    "import tensorflow as tf\n",
    "from tensorflow.contrib import slim \n",
    "from tensorflow.python.ops import init_ops\n",
    "tf.logging.set_verbosity('ERROR')\n",
    "from tensorflow.examples.tutorials.mnist import input_data\n",
    "from matplotlib.pyplot import imshow\n",
    "import os\n",
    "import numpy as np\n",
    "%matplotlib inline\n",
    "# number 1 to 10 data\n",
    "mnist = input_data.read_data_sets('MNIST_data', one_hot=True)"
   ]
  },
  {
   "cell_type": "markdown",
   "metadata": {
    "collapsed": true
   },
   "source": [
    "# <span style=\"color:green\">Awesome! Now, you get mnist dataset!</span>"
   ]
  },
  {
   "cell_type": "code",
   "execution_count": 25,
   "metadata": {},
   "outputs": [
    {
     "data": {
      "text/plain": [
       "<matplotlib.image.AxesImage at 0x7fef17d3bef0>"
      ]
     },
     "execution_count": 25,
     "metadata": {},
     "output_type": "execute_result"
    },
    {
     "data": {
      "image/png": "[encoded data removed]",
      "text/plain": [
       "<matplotlib.figure.Figure at 0x7fef239c0f60>"
      ]
     },
     "metadata": {},
     "output_type": "display_data"
    }
   ],
   "source": [
    "#show image\n",
    "batch_xs, batch_ys = mnist.train.next_batch(1)\n",
    "batch_xs=(batch_xs.reshape(28,28)*255).astype(np.uint)\n",
    "imshow(batch_xs, cmap='gray')"
   ]
  },
  {
   "cell_type": "code",
   "execution_count": 27,
   "metadata": {},
   "outputs": [
    {
     "data": {
      "text/plain": [
       "array([[ 1.,  0.,  0.,  0.,  0.,  0.,  0.,  0.,  0.,  0.]])"
      ]
     },
     "execution_count": 27,
     "metadata": {},
     "output_type": "execute_result"
    }
   ],
   "source": [
    "batch_ys"
   ]
  },
  {
   "cell_type": "code",
   "execution_count": 28,
   "metadata": {
    "collapsed": true
   },
   "outputs": [],
   "source": [
    "#define input tensor and Variable\n",
    "xs = tf.placeholder(tf.float32, [None, 784]) # 28x28\n",
    "ys = tf.placeholder(tf.float32, [None, 10])\n",
    "\n",
    "keep_prob_tensor = tf.placeholder(tf.float32)  #dropout \n",
    "learning_rate_tensor=tf.placeholder(tf.float32)\n",
    "global_step = tf.Variable(0, name='global_step', trainable=False)\n",
    "x_image = tf.reshape(xs, [-1, 28, 28, 1])\n",
    "define_model=False\n",
    "log_path='/data4/DR/Tutorial/log'"
   ]
  },
  {
   "cell_type": "raw",
   "metadata": {},
   "source": [
    "Tensorflow default input (2D) shape is [batch size,height,width,channel]\n",
    "Tensorflow default input (3D) shape is [batch size,depth,height,width,channel]\n",
    "Label=[batch size,label file]"
   ]
  },
  {
   "cell_type": "code",
   "execution_count": 30,
   "metadata": {},
   "outputs": [
    {
     "data": {
      "text/plain": [
       "array([[ 1.,  0.,  0.,  0.,  0.,  0.,  0.,  0.,  0.,  0.]])"
      ]
     },
     "execution_count": 30,
     "metadata": {},
     "output_type": "execute_result"
    }
   ],
   "source": [
    "batch_ys"
   ]
  },
  {
   "cell_type": "raw",
   "metadata": {},
   "source": [
    "Label must be a array"
   ]
  },
  {
   "cell_type": "markdown",
   "metadata": {},
   "source": [
    "# <span style=\"color:green\">Now! build your own model!</span>"
   ]
  },
  {
   "cell_type": "code",
   "execution_count": 5,
   "metadata": {
    "collapsed": true
   },
   "outputs": [],
   "source": [
    "with tf.variable_scope(\"Tensorflow_Tutorial\") as scope:\n",
    "    if define_model==True:\n",
    "        tf.get_variable_scope().reuse_variables()\n",
    "    #start define model\n",
    "    #convolution layer-output 32 kernals, kernal size 5 X 5, stride 2,activation_fn=relu\n",
    "    net=slim.conv2d(x_image,32,[5,5],2,weights_initializer=init_ops.truncated_normal_initializer(stddev=0.1)\n",
    "                    ,biases_initializer=init_ops.Constant(0.1),\n",
    "                    activation_fn=tf.nn.relu,padding='SAME',scope='conv_1')\n",
    "    #pool layer-max pool with 2 X 2\n",
    "    net=slim.max_pool2d(net,[2,2],scope='max_pool_1')\n",
    "    net=slim.conv2d(net,64,[5,5],2,weights_initializer=init_ops.truncated_normal_initializer(stddev=0.1),\n",
    "                    biases_initializer=init_ops.Constant(0.1),scope='conv_2')\n",
    "    net=slim.max_pool2d(net,[2,2],scope='max_pool_2')\n",
    "    #fully connected layer-output 1024\n",
    "    net=slim.fully_connected(net,1024,scope='fc_1',weights_initializer=init_ops.truncated_normal_initializer(stddev=0.1),\n",
    "                            biases_initializer=init_ops.Constant(0.1))\n",
    "    #flatten\n",
    "    net=slim.flatten(net, scope='PreLogitsFlatten')\n",
    "    net=tf.nn.dropout(net,keep_prob_tensor)\n",
    "    #result without softmax\n",
    "    logit=slim.fully_connected(net,10,scope='fc_2',weights_initializer=init_ops.truncated_normal_initializer(stddev=0.1),\n",
    "                              biases_initializer=init_ops.Constant(0.1))\n",
    "    \n",
    "    define_model=True\n",
    "    \n",
    "    #define loss\n",
    "    loss=slim.losses.softmax_cross_entropy(logit,ys)\n",
    "    #define optimizer for training\n",
    "    optimizer = tf.train.AdamOptimizer(learning_rate=learning_rate_tensor)\n",
    "    #define train operator\n",
    "    train_op = slim.learning.create_train_op(loss, optimizer,global_step)\n",
    "    \n",
    "    prediction=tf.arg_max(logit,1)\n",
    "    accuracy=slim.metrics.accuracy(tf.arg_max(logit,1),tf.arg_max(ys,1))\n",
    "    \n",
    "    #define summary for tensorboard\n",
    "    tf.summary.scalar('Loss',loss)\n",
    "    tf.summary.scalar('accuracy',accuracy)\n",
    "    summary_op=tf.summary.merge_all()\n",
    "    #get variables which need to be initialed \n",
    "    variables_for_init=tf.global_variables_initializer()\n",
    "    \n",
    "    "
   ]
  },
  {
   "cell_type": "code",
   "execution_count": 6,
   "metadata": {
    "collapsed": true
   },
   "outputs": [],
   "source": [
    "config = tf.ConfigProto()\n",
    "config.gpu_options.per_process_gpu_memory_fraction = 0.1  #0.1 =GPU_memory usage\n",
    "sess = tf.Session(config=config) #start Session \n",
    "#Session.run(require tensorflow run something  )\n",
    "sess.run(variables_for_init)     #initiaal variables \n",
    "writer_master = tf.summary.FileWriter(log_path, sess.graph)   #define summary writer for tensorboard"
   ]
  },
  {
   "cell_type": "markdown",
   "metadata": {},
   "source": [
    "# <span style=\"color:green\">Must initial variables before anything!</span>"
   ]
  },
  {
   "cell_type": "code",
   "execution_count": 7,
   "metadata": {
    "collapsed": true
   },
   "outputs": [],
   "source": [
    "#sess = tf.Session()\n",
    "#sess.run(variables_for_init)\n",
    "#writer_master = tf.summary.FileWriter(log_path, sess.graph)"
   ]
  },
  {
   "cell_type": "markdown",
   "metadata": {},
   "source": [
    "# <span style=\"color:green\">Tuning parameters!</span>"
   ]
  },
  {
   "cell_type": "code",
   "execution_count": 15,
   "metadata": {
    "collapsed": true
   },
   "outputs": [],
   "source": [
    "Steps=2000\n",
    "learning_rate=0.0001\n",
    "keep_prob=0.5\n",
    "valid=100"
   ]
  },
  {
   "cell_type": "markdown",
   "metadata": {},
   "source": [
    "# <span style=\"color:green\">Start training!</span>"
   ]
  },
  {
   "cell_type": "code",
   "execution_count": 18,
   "metadata": {},
   "outputs": [
    {
     "name": "stdout",
     "output_type": "stream",
     "text": [
      "train_loss:3.80257 Accuracy:0.1025\n",
      "train_loss:2.30768 Accuracy:0.111\n",
      "train_loss:2.23507 Accuracy:0.1839\n",
      "train_loss:1.81147 Accuracy:0.3603\n",
      "train_loss:1.555 Accuracy:0.5626\n",
      "train_loss:0.80971 Accuracy:0.6956\n",
      "train_loss:0.61118 Accuracy:0.7672\n",
      "train_loss:0.629698 Accuracy:0.7988\n",
      "train_loss:0.387269 Accuracy:0.8721\n",
      "train_loss:0.278101 Accuracy:0.8953\n",
      "train_loss:0.348841 Accuracy:0.9139\n",
      "train_loss:0.21623 Accuracy:0.9224\n",
      "train_loss:0.138004 Accuracy:0.9285\n",
      "train_loss:0.350527 Accuracy:0.9368\n",
      "train_loss:0.268281 Accuracy:0.9355\n",
      "train_loss:0.151027 Accuracy:0.9379\n",
      "train_loss:0.280224 Accuracy:0.945\n",
      "train_loss:0.216538 Accuracy:0.9493\n",
      "train_loss:0.319134 Accuracy:0.9518\n",
      "train_loss:0.248271 Accuracy:0.9526\n"
     ]
    }
   ],
   "source": [
    "for step in range(Steps):\n",
    "    batch_xs, batch_ys = mnist.train.next_batch(100)\n",
    "    #session can run multi tensors -> sess.run([tensors,tensors])\n",
    "    #session can run single tensors -> sess.run([tensor])\n",
    "    #feed_dict -> assign data to tensor \n",
    "    '''\n",
    "    useless  <- train_op\n",
    "    train_loss  <-  loss\n",
    "    xs  <- batch_xs\n",
    "    ys  <-  batch_ys\n",
    "    '''\n",
    "    useless,train_loss=sess.run([train_op,loss], feed_dict={xs: batch_xs, ys: batch_ys, \n",
    "                                    keep_prob_tensor: keep_prob,learning_rate_tensor:learning_rate})\n",
    "    if step % valid == 0:\n",
    "        accuracy_,summary_=sess.run([accuracy,summary_op,], feed_dict={xs: mnist.test.images, ys: mnist.test.labels, \n",
    "                                      keep_prob_tensor: keep_prob,learning_rate_tensor:learning_rate})\n",
    "        print ('train_loss:'+str(train_loss),'Accuracy:'+str(accuracy_))   \n",
    "        #write summary to tensorboard\n",
    "        #step is X\n",
    "        writer_master.add_summary(summary_,step)\n",
    "        #force writer write report to tensorboard\n",
    "        writer_master.flush()\n",
    "        \n",
    "        "
   ]
  },
  {
   "cell_type": "code",
   "execution_count": 12,
   "metadata": {
    "collapsed": true
   },
   "outputs": [],
   "source": [
    "batch_xs, batch_ys = mnist.train.next_batch(1)"
   ]
  },
  {
   "cell_type": "code",
   "execution_count": 16,
   "metadata": {
    "collapsed": true
   },
   "outputs": [],
   "source": [
    "#predict the result\n",
    "prediction_=sess.run(prediction, feed_dict={xs: batch_xs, \n",
    "                                    keep_prob_tensor: keep_prob,learning_rate_tensor:learning_rate})"
   ]
  },
  {
   "cell_type": "code",
   "execution_count": 17,
   "metadata": {},
   "outputs": [
    {
     "data": {
      "text/plain": [
       "array([1])"
      ]
     },
     "execution_count": 17,
     "metadata": {},
     "output_type": "execute_result"
    }
   ],
   "source": [
    "prediction_"
   ]
  },
  {
   "cell_type": "markdown",
   "metadata": {},
   "source": [
    "# <span style=\"color:green\">Now! Save your own model!</span>"
   ]
  },
  {
   "cell_type": "code",
   "execution_count": 9,
   "metadata": {},
   "outputs": [
    {
     "data": {
      "text/plain": [
       "'/data4/DR/Tutorial/log/model.ckpt'"
      ]
     },
     "execution_count": 9,
     "metadata": {},
     "output_type": "execute_result"
    }
   ],
   "source": [
    "#define saver for save model variables from sess\n",
    "Saver=tf.train.Saver()\n",
    "model_path=os.path.join(log_path,'model.ckpt')\n",
    "Saver.save(sess,model_path)"
   ]
  },
  {
   "cell_type": "code",
   "execution_count": 11,
   "metadata": {
    "collapsed": true
   },
   "outputs": [],
   "source": [
    "#restore model variables for sess\n",
    "# you must initial model variables before restore\n",
    "Saver.restore(sess,model_path)"
   ]
  },
  {
   "cell_type": "code",
   "execution_count": null,
   "metadata": {
    "collapsed": true
   },
   "outputs": [],
   "source": [
    "#type following instruction on the command line to run tensorboard\n",
    "tensorboard --logdir=/data4/DR/Tutorial/log"
   ]
  }
 ],
 "metadata": {
  "kernelspec": {
   "display_name": "Python 3",
   "language": "python",
   "name": "python3"
  },
  "language_info": {
   "codemirror_mode": {
    "name": "ipython",
    "version": 3
   },
   "file_extension": ".py",
   "mimetype": "text/x-python",
   "name": "python",
   "nbconvert_exporter": "python",
   "pygments_lexer": "ipython3",
   "version": "3.6.1"
  }
 },
 "nbformat": 4,
 "nbformat_minor": 2
}
